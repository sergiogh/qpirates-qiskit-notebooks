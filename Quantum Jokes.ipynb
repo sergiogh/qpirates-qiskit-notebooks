{
 "cells": [
  {
   "cell_type": "code",
   "execution_count": 18,
   "metadata": {},
   "outputs": [],
   "source": [
    "# importing Qiskit\n",
    "from qiskit import IBMQ, Aer\n",
    "from qiskit import QuantumCircuit, execute\n"
   ]
  },
  {
   "cell_type": "code",
   "execution_count": 135,
   "metadata": {},
   "outputs": [],
   "source": [
    "jokes = [\n",
    "\"I also have a wavefunction joke but I'm afraid that it will collapse\",\n",
    "\"I have a unique quantum joke because I am pretty sure it cannot be cloned.\",\n",
    "\"I have a joke about quantum physics, but nobody gets it - not even me.\",\n",
    "\"I have a quantum computing joke, but it may have decohered.\",\n",
    "\"I could tell an entanglement joke, but you already know the second half.\",\n",
    "\"I have a quantum computing joke, but it may and may not be more funny than a classical computing joke.\",\n",
    "\"I have a quantum diamond joke but it has a defect.\",\n",
    "\"I have a quantum entanglement joke, but finding a witness to it is NP-hard.\",\n",
    "\"I have a quantum computing opinion, but it's just a projection.\",\n",
    "\"All quantum computing jokes are so entangling\",\n",
    "\"I have a quantum computing joke, but it’s too nisqué.\",\n",
    "\"I have a joke about quantum computing, but I’ll tell you when it’s less noisy.\",\n",
    "\"I'll probably have a quantum computing joke about 30 years from now.\",\n",
    "\"I won't tell my joke about Quantum Computing, it's a bit cold.\",\n",
    "\"I have a joke about quantum computing, but it’s not yet error corrected.\",\n",
    "\"I have a quantum computing joke. Once built it is going to profoundly change the way we do humor.\",\n",
    "\"It has come to the University’s attention that people really like science jokes. We aim to form a committee in the next 2-3 months made up of selected candidates that will come up with our own, school-approved joke. Please be patient and be on the lookout for our correspondence.\",\n",
    "\"There’s a 50/50 chance I have a quantum joke.\",\n",
    "\"I have a quantum computing joke, but it will take you at least from 5 to 15 years to get it.\"\n",
    "]\n"
   ]
  },
  {
   "cell_type": "code",
   "execution_count": 136,
   "metadata": {},
   "outputs": [
    {
     "name": "stdout",
     "output_type": "stream",
     "text": [
      "Jokes: 19, Need 5 Qubits\n"
     ]
    }
   ],
   "source": [
    "qubits = len(bin(len(jokes))[2:])\n",
    "print(\"Jokes: %s, Need %s Qubits\" % (len(jokes), qubits))"
   ]
  },
  {
   "cell_type": "code",
   "execution_count": 137,
   "metadata": {},
   "outputs": [
    {
     "data": {
      "image/png": "[encoded data removed]",
      "text/plain": [
       "<Figure size 599.592x385.28 with 1 Axes>"
      ]
     },
     "execution_count": 137,
     "metadata": {},
     "output_type": "execute_result"
    }
   ],
   "source": [
    "qc = QuantumCircuit(qubits)\n",
    "qc.h(range(qubits))\n",
    "# TODO: Interfere or remove additional states not in the length of \n",
    "# the solution. I.e. If 8 strings, max binary rep is 1000\n",
    "qc.measure_all()\n",
    "\n",
    "qc.draw('mpl')"
   ]
  },
  {
   "cell_type": "code",
   "execution_count": 151,
   "metadata": {},
   "outputs": [
    {
     "name": "stdout",
     "output_type": "stream",
     "text": [
      "I have a quantum computing opinion, but it's just a projection.\n"
     ]
    }
   ],
   "source": [
    "# Clasically it will be easier to just repeat the simulation if we get an out of bounds result :) \n",
    "while True:\n",
    "    backend = Aer.get_backend('qasm_simulator')\n",
    "    job = execute(qc, backend, shots=1 )\n",
    "    result = job.result().get_counts()\n",
    "    joke = int(list(result)[0],2)\n",
    "    if (joke - 1 < len(jokes)):\n",
    "        break\n",
    "    \n",
    "print(jokes[joke-1])"
   ]
  }
 ],
 "metadata": {
  "kernelspec": {
   "display_name": "Python 3",
   "language": "python",
   "name": "python3"
  },
  "language_info": {
   "codemirror_mode": {
    "name": "ipython",
    "version": 3
   },
   "file_extension": ".py",
   "mimetype": "text/x-python",
   "name": "python",
   "nbconvert_exporter": "python",
   "pygments_lexer": "ipython3",
   "version": "3.7.6"
  }
 },
 "nbformat": 4,
 "nbformat_minor": 4
}
