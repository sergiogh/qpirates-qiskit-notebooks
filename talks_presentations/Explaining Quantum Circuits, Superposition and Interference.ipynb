{
 "cells": [
  {
   "cell_type": "markdown",
   "metadata": {},
   "source": [
    "# Intro to Quantum Computing"
   ]
  },
  {
   "cell_type": "markdown",
   "metadata": {},
   "source": [
    "#### Import your Python Libraries"
   ]
  },
  {
   "cell_type": "code",
   "execution_count": null,
   "metadata": {},
   "outputs": [],
   "source": [
    "import numpy as np\n",
    "from qiskit import QuantumCircuit, execute, Aer\n",
    "from qiskit.quantum_info import Statevector\n",
    "\n",
    "import kaleidoscope.qiskit\n",
    "from kaleidoscope import qsphere, probability_distribution\n",
    "\n",
    "# import basic plot tools\n",
    "from qiskit.visualization import plot_histogram, plot_state_qsphere\n"
   ]
  },
  {
   "cell_type": "markdown",
   "metadata": {},
   "source": [
    "### What is a Qubit?"
   ]
  },
  {
   "cell_type": "code",
   "execution_count": null,
   "metadata": {},
   "outputs": [],
   "source": [
    "# A Circuit is something as simple as a Qubit with a 0 or a 1.\n",
    "\n",
    "qc = QuantumCircuit(1)\n",
    "state = Statevector.from_instruction(qc)\n",
    "qsphere(state)"
   ]
  },
  {
   "cell_type": "code",
   "execution_count": null,
   "metadata": {},
   "outputs": [],
   "source": [
    "# Or a 1\n",
    "qc.x(0)\n",
    "state = Statevector.from_instruction(qc)\n",
    "qsphere(state)"
   ]
  },
  {
   "cell_type": "code",
   "execution_count": null,
   "metadata": {},
   "outputs": [],
   "source": [
    "# Now we simulate 3 Qubits\n",
    "qc = QuantumCircuit(3)\n",
    "qc.h(range(3))\n",
    "qc.cz(0,1)\n",
    "state = Statevector.from_instruction(qc)\n",
    "qsphere(state)"
   ]
  },
  {
   "cell_type": "code",
   "execution_count": null,
   "metadata": {},
   "outputs": [],
   "source": [
    "qc.draw()"
   ]
  },
  {
   "cell_type": "markdown",
   "metadata": {},
   "source": [
    "## 5 Qubit Example - enter Superposition"
   ]
  },
  {
   "cell_type": "code",
   "execution_count": null,
   "metadata": {},
   "outputs": [],
   "source": [
    "# Representing 5  Qubits\n",
    "\n",
    "qc2 = QuantumCircuit(5)\n",
    "qc2.h(range(4))\n",
    "qc2.x(4)\n",
    "qc2.h(4)\n",
    "#qc2.barrier()\n",
    "\n",
    "# \"Mark\" |11011>\n",
    "qc2.x(2)\n",
    "qc2.mct([0,1,2,3], 4)\n",
    "qc2.x(2)\n",
    "\n",
    "# \"Mark\" |11110>\n",
    "#qc2.x(0)\n",
    "#qc2.mct([0,1,2,3], 4)\n",
    "#qc2.x(0)\n",
    "qc2.h(4)\n",
    "#qc2.barrier()\n",
    "qc2.draw('mpl')"
   ]
  },
  {
   "cell_type": "code",
   "execution_count": null,
   "metadata": {},
   "outputs": [],
   "source": [
    "statevector = Statevector.from_instruction(qc2)\n",
    "qsphere(statevector)"
   ]
  },
  {
   "cell_type": "code",
   "execution_count": null,
   "metadata": {},
   "outputs": [],
   "source": [
    "qc2.measure_all()\n",
    "backend = Aer.get_backend(\"qasm_simulator\")\n",
    "result = execute(qc2, backend=backend, shots=1000).result()\n",
    "probability_distribution(result.get_counts(qc2))"
   ]
  },
  {
   "cell_type": "markdown",
   "metadata": {},
   "source": [
    "## A Quantum Circuit: Step by Step"
   ]
  },
  {
   "cell_type": "code",
   "execution_count": null,
   "metadata": {},
   "outputs": [],
   "source": [
    "# Very simple circuit explanation\n",
    "\n",
    "qc3 = QuantumCircuit(3)\n",
    "\n",
    "# 1: No Gates\n",
    "qc3.i(range(3))\n",
    "\n",
    "# 2: Some Gates\n",
    "#qc3.x(0)\n",
    "#qc3.x(1)\n",
    "\n",
    "# 3: X on all gates\n",
    "#qc3.x(range(3))\n",
    "\n",
    "# 4: Superposition\n",
    "#qc3.x(range(3))\n",
    "\n",
    "# 5: With some X as well\n",
    "#qc3.h(range(3))\n",
    "\n",
    "qc3.draw('mpl')"
   ]
  },
  {
   "cell_type": "code",
   "execution_count": null,
   "metadata": {},
   "outputs": [],
   "source": [
    "statevector = Statevector.from_instruction(qc3)\n",
    "qsphere(statevector)"
   ]
  },
  {
   "cell_type": "code",
   "execution_count": null,
   "metadata": {},
   "outputs": [],
   "source": [
    "qc3.measure_all()\n",
    "backend = Aer.get_backend(\"qasm_simulator\")\n",
    "result = execute(qc3, backend=backend, shots=1000).result()"
   ]
  },
  {
   "cell_type": "code",
   "execution_count": null,
   "metadata": {},
   "outputs": [],
   "source": [
    "probability_distribution(result.get_counts(qc3))"
   ]
  },
  {
   "cell_type": "markdown",
   "metadata": {},
   "source": [
    "## Now, what is interference"
   ]
  },
  {
   "cell_type": "code",
   "execution_count": null,
   "metadata": {},
   "outputs": [],
   "source": [
    "### NEW CIRCUIT WITH 3 QUBITS \n",
    "### SOLUTIONS: 101 AND 110\n",
    "\n",
    "def phase_oracle(circuit):\n",
    "    circuit.cz(0, 2)\n",
    "    circuit.cz(1, 2)\n",
    "    \n",
    "    \n",
    "def diffuser(circuit):\n",
    "    \"\"\"Apply inversion about the average step of Grover's algorithm.\"\"\"\n",
    "    qubits = circuit.qubits\n",
    "    nqubits = len(qubits)\n",
    "    \n",
    "    for q in range(nqubits):\n",
    "        circuit.h(q)\n",
    "        circuit.x(q)\n",
    "    \n",
    "    # Do controlled-Z\n",
    "    circuit.h(2)\n",
    "    circuit.ccx(0,1,2)\n",
    "    circuit.h(2)\n",
    "    \n",
    "    for q in range(nqubits):\n",
    "        circuit.x(q)\n",
    "        circuit.h(q)"
   ]
  },
  {
   "cell_type": "code",
   "execution_count": null,
   "metadata": {},
   "outputs": [],
   "source": [
    "## First we create superposition\n",
    "\n",
    "n = 3\n",
    "grover_circuit = QuantumCircuit(n)\n",
    "grover_circuit.h(range(n))\n",
    "grover_circuit.barrier()\n",
    "\n",
    "grover_circuit.draw(output=\"mpl\")"
   ]
  },
  {
   "cell_type": "code",
   "execution_count": null,
   "metadata": {},
   "outputs": [],
   "source": [
    "statevector = Statevector.from_instruction(grover_circuit)\n",
    "qsphere(statevector)"
   ]
  },
  {
   "cell_type": "code",
   "execution_count": null,
   "metadata": {},
   "outputs": [],
   "source": [
    "# The Quantum Computer \"marks\" the solutions\n",
    "phase_oracle(grover_circuit)\n",
    "\n",
    "grover_circuit.draw(output=\"mpl\")"
   ]
  },
  {
   "cell_type": "code",
   "execution_count": null,
   "metadata": {},
   "outputs": [],
   "source": [
    "statevector = Statevector.from_instruction(grover_circuit)\n",
    "qsphere(statevector)"
   ]
  },
  {
   "cell_type": "code",
   "execution_count": null,
   "metadata": {},
   "outputs": [],
   "source": [
    "# User interference to keep only the solution states\n",
    "\n",
    "grover_circuit.barrier()\n",
    "diffuser(grover_circuit)\n",
    "\n",
    "grover_circuit.draw(output=\"mpl\")"
   ]
  },
  {
   "cell_type": "code",
   "execution_count": null,
   "metadata": {},
   "outputs": [],
   "source": [
    "statevector = Statevector.from_instruction(grover_circuit)\n",
    "qsphere(statevector)"
   ]
  },
  {
   "cell_type": "code",
   "execution_count": null,
   "metadata": {},
   "outputs": [],
   "source": [
    "grover_circuit.measure_all()\n",
    "backend = Aer.get_backend('qasm_simulator')\n",
    "results = execute(grover_circuit, backend=backend, shots=1000).result()\n",
    "probability_distribution(results.get_counts(grover_circuit))\n"
   ]
  }
 ],
 "metadata": {
  "interpreter": {
   "hash": "1e18502cbe4e9a957e25854f40bca2fddafc6b06b306f48e68b76192cd062114"
  },
  "kernelspec": {
   "display_name": "Python 3",
   "language": "python",
   "name": "python3"
  },
  "language_info": {
   "codemirror_mode": {
    "name": "ipython",
    "version": 3
   },
   "file_extension": ".py",
   "mimetype": "text/x-python",
   "name": "python",
   "nbconvert_exporter": "python",
   "pygments_lexer": "ipython3",
   "version": "3.8.5"
  },
  "metadata": {
   "interpreter": {
    "hash": "1e18502cbe4e9a957e25854f40bca2fddafc6b06b306f48e68b76192cd062114"
   }
  }
 },
 "nbformat": 4,
 "nbformat_minor": 4
}
