{
 "cells": [
  {
   "cell_type": "markdown",
   "source": [
    "# How Quantum Power Helps to Win a Card Game\n",
    "\n",
    "A quantum coin game to illustrate the power of quantum superposition and interference\n",
    "\n",
    "Based on the work by [Jan-R. Lahmann](https://twitter.com/JanLahmann) using [Qiskit](http://qiskit.org)\n",
    "\n",
    "Inspired by the TED talk of Shohini Ghose  \n",
    "[\"Quantum computing explained in 10 minutes\"](https://www.ted.com/talks/shohini_ghose_quantum_computing_explained_in_10_minutes)\n"
   ],
   "metadata": {}
  },
  {
   "cell_type": "markdown",
   "source": [
    "# The Card Game\n",
    "\n",
    "Two players, A(lice) and B(ob), play a card game.  \n",
    "\n",
    "* The game starts with one card up. Showing the King of Hearts.\n",
    "* Player A starts and may either turn the coin or leave it as is. \n",
    "* B may now also turn the card or leave it as is.\n",
    "* A then has the third and final move.\n",
    "* However, the moves are hidden and have to be decided beforehand. \n",
    "* Movements are applied to the card, and the final state gets revealed\n",
    "* **If the card is UP, A wins; if the card is DOWN, B wins.**\n",
    "\n",
    "\n",
    "**In summary.**\n",
    "\n",
    "#### The card Up\n",
    "![cardup](card.jpg)\n",
    "\n",
    "#### The card Down\n",
    "![carddown](card_reverse.jpg)\n",
    "\n",
    "**If the card ends up, Player A wins. If it ends down, Player B Wins. All movements are done in secret**\n",
    "\n",
    "**Example 1**\n",
    "\n",
    "Movement | Decision | Card\n",
    "---------|----------|-----\n",
    "1 (A) | Flip | ![cardup](card_reverse.jpg)\n",
    "2 (B) | Flip | ![cardup](card.jpg)\n",
    "3 (A) | Leave it | ![cardup](card.jpg)\n",
    "\n",
    "__A WINS__\n",
    "\n",
    "**Example 2**\n",
    "\n",
    "Movement | Decision | Card\n",
    "---------|----------|-----\n",
    "1 (A) | Leave it | ![cardup](card.jpg)\n",
    "2 (B) | Flip | ![cardup](card_reverse.jpg)\n",
    "3 (A) | Leave it | ![cardup](card_reverse.jpg)\n",
    "\n",
    "\n",
    "__B WINS__"
   ],
   "metadata": {}
  },
  {
   "cell_type": "markdown",
   "source": [
    "## Is there a strategy to always win the game?\n",
    "\n",
    "Players A and B will win with the same probability.  \n",
    "There is no strategy for A (or B) to increase this probability - and certainly no strategy to always win.\n",
    "\n",
    "\"Human\" and \"classical computer\" players can only decide to \"flip\" the coin in their options. That means adding an \"X\" Gate to our circuit (or NOT, in the classical world).\n",
    "\n",
    "However a Quantum Computer can use the super power of superposition on its qubit (instead of a bit). For that it may use \"H-Gates\" in addition to \"X\""
   ],
   "metadata": {}
  },
  {
   "cell_type": "code",
   "execution_count": null,
   "source": [
    "# Dependencies and initial configuration\n",
    "\n",
    "%pylab inline\n",
    "from qiskit import ClassicalRegister, QuantumRegister, QuantumCircuit\n",
    "from qiskit import execute, Aer\n",
    "from qiskit.tools.visualization import plot_histogram\n",
    "from ipywidgets import interact\n",
    "import matplotlib.pyplot as plt\n",
    "import matplotlib.image as mpimg\n",
    "\n",
    "from qiskit.circuit.library.standard_gates import HGate, IGate, XGate\n",
    "\n",
    "\n",
    "def MoveA1(move_A1): global moveA1; moveA1=move_A1;\n",
    "def MoveB1(move_B1): global moveB1; moveB1=move_B1;\n",
    "def MoveA2(move_A2): global moveA2; moveA2=move_A2;\n",
    "    \n",
    "def who_wins(counts):\n",
    "    if len(counts)==1 :\n",
    "        print('The winner is', 'A' if (\"0\" in counts) else 'B')\n",
    "        if (\"0\" in counts):\n",
    "            img = mpimg.imread('card.jpg')\n",
    "        else:\n",
    "            img = mpimg.imread('card_reverse.jpg')\n",
    "        imgplot = plt.imshow(img)\n",
    "        plt.axis('off')\n",
    "        plt.show()\n",
    "    else:\n",
    "        count0=counts[\"0\"]\n",
    "        count1=counts[\"1\"]\n",
    "        print('The coin is in superposition of |0⟩ and |1⟩')\n",
    "        print('A wins with probability',  \"%.1f%%\" % (100.*count0/(count0+count1)))\n",
    "        print('B wins with probability',  \"%.1f%%\" % (100.*count1/(count0+count1)))\n",
    "    return()\n",
    "\n",
    "def build_circuit():\n",
    "    q = QuantumRegister(1, name=\"coin\") # create a quantum register with one qubit\n",
    "    c = ClassicalRegister(1) \n",
    "    qc = QuantumCircuit(q, c) # creates the quantum circuit\n",
    "\n",
    "    h = HGate(label='MAGIC')\n",
    "    i = IGate(label='Do Nothing')\n",
    "    x = XGate(label='Flip')\n",
    "    \n",
    "    # 1. move of A\n",
    "    if   moveA1 == 0 : qc.append(i, [0]) #qc.i(q[0])\n",
    "    elif moveA1 == 1 : qc.append(x, [0]) #qc.x(q[0]) \n",
    "    elif moveA1 == 2 : qc.append(h, [0]) #.h(q[0]) \n",
    "\n",
    "    # 1. move of B \n",
    "    if   moveB1 == 0 : qc.append(i, [0])\n",
    "    elif moveB1 == 1 : qc.append(x, [0])     \n",
    "\n",
    "    # 2. move of A\n",
    "    if   moveA2 == 0 : qc.append(i, [0])\n",
    "    elif moveA2 == 1 : qc.append(x, [0]) \n",
    "    elif moveA2 == 2 : qc.append(h, [0]) \n",
    "        \n",
    "    qc.measure(q, c) # Measure the qubits\n",
    "    return qc\n"
   ],
   "outputs": [],
   "metadata": {}
  },
  {
   "cell_type": "markdown",
   "source": [
    "## Player A Starts"
   ],
   "metadata": {}
  },
  {
   "cell_type": "code",
   "execution_count": null,
   "source": [
    "interact(MoveA1, move_A1={'Not Flip':0,'Flip':1});"
   ],
   "outputs": [],
   "metadata": {}
  },
  {
   "cell_type": "markdown",
   "source": [
    "## Player B Follows"
   ],
   "metadata": {}
  },
  {
   "cell_type": "code",
   "execution_count": null,
   "source": [
    "interact(MoveB1, move_B1={'Not Flip':0,'Flip':1});"
   ],
   "outputs": [],
   "metadata": {}
  },
  {
   "cell_type": "markdown",
   "source": [
    "## Player A Last move"
   ],
   "metadata": {}
  },
  {
   "cell_type": "code",
   "execution_count": null,
   "source": [
    "interact(MoveA2, move_A2={'Not Flip':0,'Flip':1});"
   ],
   "outputs": [],
   "metadata": {}
  },
  {
   "cell_type": "code",
   "execution_count": null,
   "source": [
    "# The Quantum Circuit\n",
    "qc = build_circuit()\n",
    "qc.draw('mpl')"
   ],
   "outputs": [],
   "metadata": {}
  },
  {
   "cell_type": "code",
   "execution_count": null,
   "source": [
    "# execute the quantum circiut (coin moves) and identify the winner\n",
    "backend = Aer.get_backend('qasm_simulator') # define the backend\n",
    "job = execute(qc, backend, shots=200) # run the job simulation\n",
    "result = job.result() # grab the result\n",
    "counts = result.get_counts(qc) # results for the number of runs\n",
    "\n",
    "#print(counts); # print the results of the runs\n",
    "who_wins(counts); # celebrate the winner"
   ],
   "outputs": [],
   "metadata": {}
  },
  {
   "cell_type": "markdown",
   "source": [
    "## Now Player A is a Quantum Computer\n",
    "\n",
    "Player B is Human, so only one movement is required"
   ],
   "metadata": {}
  },
  {
   "cell_type": "code",
   "execution_count": null,
   "source": [
    "interact(MoveB1, move_B1={'Not Flip':0,'Flip':1});"
   ],
   "outputs": [],
   "metadata": {}
  },
  {
   "cell_type": "code",
   "execution_count": null,
   "source": [
    "# Quantum Computer uses Superposition! (2 is a \"Hadamard Gate\")\n",
    "MoveA1(2)\n",
    "MoveA2(2)"
   ],
   "outputs": [],
   "metadata": {}
  },
  {
   "cell_type": "code",
   "execution_count": null,
   "source": [
    "qc = build_circuit()\n",
    "qc.draw('mpl')"
   ],
   "outputs": [],
   "metadata": {}
  },
  {
   "cell_type": "code",
   "execution_count": null,
   "source": [
    "# execute the quantum circiut (coin moves) and identify the winner\n",
    "backend = Aer.get_backend('qasm_simulator') # define the backend\n",
    "job = execute(qc, backend, shots=200) # run the job simulation\n",
    "result = job.result() # grab the result\n",
    "counts = result.get_counts(qc) # results for the number of runs\n",
    "\n",
    "print(counts); # print the results of the runs\n",
    "who_wins(counts); # celebrate the winner\n",
    "plot_histogram(counts) # Visualise the results"
   ],
   "outputs": [],
   "metadata": {}
  },
  {
   "cell_type": "markdown",
   "source": [
    "## Here comes the noise\n",
    "Unfortunately, we live on the NISQ era. Noise Intermediate Scale Quantum Computers. This means our qubits are noisy and this affects greatly our calculations. We need to count for that fact."
   ],
   "metadata": {}
  },
  {
   "cell_type": "code",
   "execution_count": null,
   "source": [
    "from qiskit.providers.aer.noise import NoiseModel, thermal_relaxation_error\n",
    "noise_model = NoiseModel()\n",
    "T1 = 0.001\n",
    "T2 = 0.002\n",
    "error = 0.001\n",
    "thermal_error = thermal_relaxation_error(T1, T2, error)\n",
    "noise_model.add_quantum_error(thermal_error, \"MAGIC\", [0])\n",
    "\n",
    "job = execute(qc, backend, shots=200, noise_model=noise_model) # run the job simulation\n",
    "\n",
    "result = job.result() # grab the result\n",
    "counts = result.get_counts(qc) # results for the number of runs\n",
    "\n",
    "print(counts); # print the results of the runs\n",
    "who_wins(counts); # celebrate the winner\n",
    "plot_histogram(counts) # Visualise the results"
   ],
   "outputs": [],
   "metadata": {}
  },
  {
   "cell_type": "code",
   "execution_count": null,
   "source": [],
   "outputs": [],
   "metadata": {}
  }
 ],
 "metadata": {
  "kernelspec": {
   "name": "python3",
   "display_name": "Python 3.8.8 64-bit ('qiskit24': conda)"
  },
  "language_info": {
   "codemirror_mode": {
    "name": "ipython",
    "version": 3
   },
   "file_extension": ".py",
   "mimetype": "text/x-python",
   "name": "python",
   "nbconvert_exporter": "python",
   "pygments_lexer": "ipython3",
   "version": "3.8.8"
  },
  "metadata": {
   "interpreter": {
    "hash": "1e18502cbe4e9a957e25854f40bca2fddafc6b06b306f48e68b76192cd062114"
   }
  },
  "interpreter": {
   "hash": "1e18502cbe4e9a957e25854f40bca2fddafc6b06b306f48e68b76192cd062114"
  }
 },
 "nbformat": 4,
 "nbformat_minor": 4
}